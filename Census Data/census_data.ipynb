{
 "cells": [
  {
   "cell_type": "code",
   "execution_count": 4,
   "id": "b692b561-6cfd-4050-b7b4-0936cf1b2308",
   "metadata": {},
   "outputs": [],
   "source": [
    "# Import modules\n",
    "import matplotlib.pyplot as plt\n",
    "import pandas as pd\n",
    "import geopandas as gpd\n",
    "from census import Census\n",
    "from us import states\n",
    "import os"
   ]
  },
  {
   "cell_type": "code",
   "execution_count": 3,
   "id": "95695021-618e-4a32-bdb1-255f464e68e9",
   "metadata": {},
   "outputs": [],
   "source": [
    "# Set API key\n",
    "c = Census(\"15cb3869c61b721cde74a06a04fd5fd907c10810\")"
   ]
  },
  {
   "cell_type": "code",
   "execution_count": 43,
   "id": "a6c029d1-3d84-4751-8b09-948b4fd6d0cd",
   "metadata": {},
   "outputs": [],
   "source": [
    "# https://api.census.gov/data/2019/acs/acs5/variables.html \n",
    "# Total population: B01003_001E\n",
    "# Household income: B19001_001E\n",
    "\n",
    "census_data_json = c.acs5.state_zipcode(fields = ('NAME', 'B01001_001E', 'B19001_001E'),\n",
    "                                    state_fips = states.TX.fips,\n",
    "                                    zcta = '*',\n",
    "                                      county_fips = \"*\",\n",
    "                                      tract = \"*\",\n",
    "                                      year = 2020)\n",
    "\n",
    "census_data_df = pd.json_normalize(census_data_json).drop(columns = [\"NAME\"]).rename(columns = { 'zip code tabulation area' : 'zipcode',\n",
    "                                                                                                'B01001_001E' : 'population',\n",
    "                                                                                                 'B19001_001E' : 'household_income'})"
   ]
  },
  {
   "cell_type": "code",
   "execution_count": 45,
   "id": "91e2fb7a-1b76-4837-8e7c-827dff61e0db",
   "metadata": {},
   "outputs": [],
   "source": [
    "census_data_df.to_csv(\"census.csv\")"
   ]
  },
  {
   "cell_type": "code",
   "execution_count": null,
   "id": "05cb31f2-7a49-4f7f-92c0-c96765ed950e",
   "metadata": {},
   "outputs": [],
   "source": []
  }
 ],
 "metadata": {
  "kernelspec": {
   "display_name": "Python 3",
   "language": "python",
   "name": "python3"
  },
  "language_info": {
   "codemirror_mode": {
    "name": "ipython",
    "version": 3
   },
   "file_extension": ".py",
   "mimetype": "text/x-python",
   "name": "python",
   "nbconvert_exporter": "python",
   "pygments_lexer": "ipython3",
   "version": "3.8.8"
  }
 },
 "nbformat": 4,
 "nbformat_minor": 5
}
