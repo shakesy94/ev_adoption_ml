{
 "cells": [
  {
   "cell_type": "code",
   "execution_count": 98,
   "id": "748fd255-ab07-4318-b4a5-fe5a57a9bc41",
   "metadata": {},
   "outputs": [],
   "source": [
    "import numpy as np\n",
    "import pandas as pd\n",
    "import seaborn as sns\n",
    "import matplotlib.pyplot as plt\n",
    "import itertools\n",
    "import os\n",
    "import shutil\n",
    "from datetime import datetime"
   ]
  },
  {
   "cell_type": "code",
   "execution_count": 3,
   "id": "cc182719-c7a1-402b-99d2-40072bdfadf5",
   "metadata": {},
   "outputs": [
    {
     "name": "stderr",
     "output_type": "stream",
     "text": [
      "/Users/youssefshaker/opt/anaconda3/lib/python3.8/site-packages/IPython/core/interactiveshell.py:3165: DtypeWarning: Columns (16,20,31,33,39,41,43,46,49,52,57,58,60,62,65,67,69) have mixed types.Specify dtype option on import or set low_memory=False.\n",
      "  has_raised = await self.run_ast_nodes(code_ast.body, cell_name,\n"
     ]
    }
   ],
   "source": [
    "#source of data: https://afdc.energy.gov/fuels/electricity_locations.html#/find/nearest?fuel=ELEC\n",
    "alt_fuel_org_df = pd.read_csv(\"alt_fuel_stations (Apr 8 2023).csv\")"
   ]
  },
  {
   "cell_type": "code",
   "execution_count": 99,
   "id": "9fe2f4f5-739b-43e3-9d5a-e5424a67d752",
   "metadata": {},
   "outputs": [],
   "source": [
    "charging_station_infra_df = alt_fuel_org_df[['Fuel Type Code', 'ZIP', 'Open Date', 'Country', 'EV Level1 EVSE Num',\n",
    "                                            'EV Level2 EVSE Num', 'EV DC Fast Count']].rename(columns = {'Fuel Type Code' : 'fuel_type',\n",
    "                                                                         'Open Date' : 'date'})\n",
    "\n",
    "\n",
    "# Filter dataframe by fuel_type and country\n",
    "charging_station_infra_df = charging_station_infra_df[(charging_station_infra_df['fuel_type'] == 'ELEC') & (charging_station_infra_df['Country'] == 'US')]\n",
    "\n",
    "charging_station_infra_df['EV Level1 EVSE Num'] = charging_station_infra_df['EV Level1 EVSE Num'].fillna(0)\n",
    "charging_station_infra_df['EV Level2 EVSE Num'] = charging_station_infra_df['EV Level2 EVSE Num'].fillna(0)\n",
    "charging_station_infra_df['EV DC Fast Count'] = charging_station_infra_df['EV DC Fast Count'].fillna(0)\n",
    "\n",
    "# Convert the 'date' column to datetime format\n",
    "charging_station_infra_df['date'] = pd.to_datetime(charging_station_infra_df['date'])\n",
    "charging_station_infra_df['month'] = charging_station_infra_df['date'].dt.strftime('%Y-%m')\n",
    "charging_station_infra_df['num_ports'] = charging_station_infra_df['EV Level1 EVSE Num'] + charging_station_infra_df['EV Level2 EVSE Num'] + charging_station_infra_df['EV DC Fast Count']\n",
    "\n",
    "# Create a new dataframe that groups by month and ZIP and calculates the cumulative sum of charging stations\n",
    "#cumulative_df = charging_station_infra_df.groupby(['ZIP', 'month' ])#.count()#.cumsum()#.reset_index()\n",
    "\n",
    "# Filter the dataframe to only include 'ZIP' and 'date' columns\n",
    "zip_date_df = charging_station_infra_df[['ZIP', 'month', 'num_ports']]\n",
    "\n",
    "# Sort the dataframe by 'ZIP' and 'date'\n",
    "zip_date_df = zip_date_df.sort_values(['ZIP', 'month'])\n",
    "\n",
    "# Calculate the cumulative count by 'ZIP'\n",
    "zip_date_df['cume_ports'] = zip_date_df.groupby('ZIP').cumsum()\n",
    "\n",
    "\n",
    "# Sort the dataframe by 'ZIP', 'month', and 'cume_ports' in descending order\n",
    "zip_date_df.sort_values(['ZIP', 'month', 'cume_ports'], ascending=[True, True, False], inplace=True)\n",
    "\n",
    "# Convert the 'month' column to datetime format\n",
    "zip_date_df['month'] = pd.to_datetime(zip_date_df['month'])\n",
    "\n",
    "def change_month(month):\n",
    "    if month < datetime(2020, 1, 1):\n",
    "        return datetime(2020, 1, 1)\n",
    "    else:\n",
    "        return month\n",
    "\n",
    "# apply function to \"month\" column\n",
    "zip_date_df['month'] = zip_date_df['month'].apply(change_month)\n",
    "\n",
    "# Drop duplicates based on 'ZIP' and 'month' columns while keeping the row with the highest 'cume_ports' value\n",
    "zip_date_df.drop_duplicates(subset=['ZIP', 'month'], keep='first', inplace=True)\n"
   ]
  },
  {
   "cell_type": "code",
   "execution_count": 109,
   "id": "64c5c935-98d9-490a-ac51-7ef4297622ff",
   "metadata": {
    "tags": []
   },
   "outputs": [],
   "source": [
    "\n",
    "\n",
    "zip_date_new_index_df = zip_date_df.reset_index()#.set_index(['ZIP', 'month'])\n",
    "\n",
    "# Create a date range with monthly frequency from Jan 2020 to Dec 2022\n",
    "date_range = pd.date_range(start='2020-01-01', end='2022-12-31', freq='MS')\n",
    "\n",
    "# Create a new dataframe with all combinations of ZIP and month in the date range\n",
    "new_df = pd.DataFrame(index=pd.MultiIndex.from_product([zip_date_df['ZIP'].unique(), date_range], names=['ZIP', 'month'])).reset_index()\n",
    "\n",
    "new_df = new_df.merge(zip_date_new_index_df, left_on = ['ZIP', 'month'], right_on = ['ZIP', 'month'], how = 'left' )\n",
    "\n",
    "new_df.loc[new_df['month'] == '2020-01-01', 'cume_ports'] = new_df.loc[new_df['month'] == '2020-01-01', 'cume_ports'].fillna(0)\n",
    "\n",
    "\n"
   ]
  },
  {
   "cell_type": "code",
   "execution_count": 110,
   "id": "109c2146-034e-44d5-a153-e2224915e43a",
   "metadata": {},
   "outputs": [],
   "source": [
    "new_df.set_index(['ZIP']).fillna(method = 'ffill').drop(columns = ['index', 'num_ports']).to_csv(\"ev_charging_ports.csv\")"
   ]
  }
 ],
 "metadata": {
  "kernelspec": {
   "display_name": "Python 3",
   "language": "python",
   "name": "python3"
  },
  "language_info": {
   "codemirror_mode": {
    "name": "ipython",
    "version": 3
   },
   "file_extension": ".py",
   "mimetype": "text/x-python",
   "name": "python",
   "nbconvert_exporter": "python",
   "pygments_lexer": "ipython3",
   "version": "3.8.8"
  }
 },
 "nbformat": 4,
 "nbformat_minor": 5
}
